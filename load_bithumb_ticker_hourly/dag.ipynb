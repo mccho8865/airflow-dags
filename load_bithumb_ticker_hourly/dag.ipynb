{
 "cells": [
  {
   "cell_type": "code",
   "execution_count": 13,
   "metadata": {},
   "outputs": [
    {
     "name": "stdout",
     "output_type": "stream",
     "text": [
      "WARNING: pip is being invoked by an old script wrapper. This will fail in a future version of pip.\n",
      "Please see https://github.com/pypa/pip/issues/5599 for advice on fixing the underlying issue.\n",
      "To avoid this problem you can invoke Python with '-m pip' instead of running pip directly.\n",
      "Defaulting to user installation because normal site-packages is not writeable\n",
      "Collecting apache-airflow-providers-apache-spark\n",
      "  Downloading apache_airflow_providers_apache_spark-2.0.1-py3-none-any.whl (37 kB)\n",
      "Collecting pyspark\n",
      "  Downloading pyspark-3.1.2.tar.gz (212.4 MB)\n",
      "\u001b[K     |████████████████████████████████| 212.4 MB 164 kB/s s eta 0:00:01   |███████████▌                    | 76.1 MB 20.5 MB/s eta 0:00:07\n",
      "\u001b[?25hRequirement already satisfied: apache-airflow>=2.1.0 in /home/jovyan/.local/lib/python3.6/site-packages (from apache-airflow-providers-apache-spark) (2.1.4)\n",
      "Requirement already satisfied: cached-property~=1.5 in /home/jovyan/.local/lib/python3.6/site-packages (from apache-airflow>=2.1.0->apache-airflow-providers-apache-spark) (1.5.2)\n",
      "Requirement already satisfied: importlib-metadata>=1.7 in /home/jovyan/.local/lib/python3.6/site-packages (from apache-airflow>=2.1.0->apache-airflow-providers-apache-spark) (4.8.1)\n",
      "Requirement already satisfied: flask-wtf<0.15,>=0.14.3 in /home/jovyan/.local/lib/python3.6/site-packages (from apache-airflow>=2.1.0->apache-airflow-providers-apache-spark) (0.14.3)\n",
      "Requirement already satisfied: markupsafe<2.0,>=1.1.1 in /usr/local/lib/python3.6/dist-packages (from apache-airflow>=2.1.0->apache-airflow-providers-apache-spark) (1.1.1)\n",
      "Requirement already satisfied: apache-airflow-providers-ftp in /home/jovyan/.local/lib/python3.6/site-packages (from apache-airflow>=2.1.0->apache-airflow-providers-apache-spark) (2.0.1)\n",
      "Requirement already satisfied: gunicorn>=19.5.0 in /home/jovyan/.local/lib/python3.6/site-packages (from apache-airflow>=2.1.0->apache-airflow-providers-apache-spark) (20.1.0)\n",
      "Requirement already satisfied: pandas<1.2,>=0.17.1 in /home/jovyan/.local/lib/python3.6/site-packages (from apache-airflow>=2.1.0->apache-airflow-providers-apache-spark) (1.1.5)\n",
      "Requirement already satisfied: python-dateutil<3,>=2.3 in /usr/local/lib/python3.6/dist-packages (from apache-airflow>=2.1.0->apache-airflow-providers-apache-spark) (2.8.1)\n",
      "Requirement already satisfied: pendulum~=2.0 in /home/jovyan/.local/lib/python3.6/site-packages (from apache-airflow>=2.1.0->apache-airflow-providers-apache-spark) (2.1.2)\n",
      "Requirement already satisfied: inflection>=0.3.1 in /home/jovyan/.local/lib/python3.6/site-packages (from apache-airflow>=2.1.0->apache-airflow-providers-apache-spark) (0.5.1)\n",
      "Requirement already satisfied: numpy<1.20 in /usr/local/lib/python3.6/dist-packages (from apache-airflow>=2.1.0->apache-airflow-providers-apache-spark) (1.18.1)\n",
      "Requirement already satisfied: sqlalchemy>=1.3.18 in /home/jovyan/.local/lib/python3.6/site-packages (from apache-airflow>=2.1.0->apache-airflow-providers-apache-spark) (1.3.24)\n",
      "Requirement already satisfied: psutil<6.0.0,>=4.2.0 in /home/jovyan/.local/lib/python3.6/site-packages (from apache-airflow>=2.1.0->apache-airflow-providers-apache-spark) (5.8.0)\n",
      "Requirement already satisfied: apache-airflow-providers-sqlite in /home/jovyan/.local/lib/python3.6/site-packages (from apache-airflow>=2.1.0->apache-airflow-providers-apache-spark) (2.0.1)\n",
      "Requirement already satisfied: attrs<21.0,>=20.0 in /home/jovyan/.local/lib/python3.6/site-packages (from apache-airflow>=2.1.0->apache-airflow-providers-apache-spark) (20.3.0)\n",
      "Requirement already satisfied: typing-extensions>=3.7.4 in /home/jovyan/.local/lib/python3.6/site-packages (from apache-airflow>=2.1.0->apache-airflow-providers-apache-spark) (3.10.0.2)\n",
      "Requirement already satisfied: alembic<2.0,>=1.2 in /home/jovyan/.local/lib/python3.6/site-packages (from apache-airflow>=2.1.0->apache-airflow-providers-apache-spark) (1.7.3)\n",
      "Requirement already satisfied: flask-login<0.5,>=0.3 in /home/jovyan/.local/lib/python3.6/site-packages (from apache-airflow>=2.1.0->apache-airflow-providers-apache-spark) (0.4.1)\n",
      "Requirement already satisfied: rich>=9.2.0 in /home/jovyan/.local/lib/python3.6/site-packages (from apache-airflow>=2.1.0->apache-airflow-providers-apache-spark) (10.10.0)\n",
      "Requirement already satisfied: importlib-resources~=1.4 in /home/jovyan/.local/lib/python3.6/site-packages (from apache-airflow>=2.1.0->apache-airflow-providers-apache-spark) (1.5.0)\n",
      "Requirement already satisfied: cryptography>=0.9.3 in /usr/lib/python3/dist-packages (from apache-airflow>=2.1.0->apache-airflow-providers-apache-spark) (2.1.4)\n",
      "Requirement already satisfied: jinja2<4,>=2.10.1 in /usr/local/lib/python3.6/dist-packages (from apache-airflow>=2.1.0->apache-airflow-providers-apache-spark) (2.10.3)\n",
      "Requirement already satisfied: python-slugify<5.0,>=3.0.0 in /home/jovyan/.local/lib/python3.6/site-packages (from apache-airflow>=2.1.0->apache-airflow-providers-apache-spark) (4.0.1)\n",
      "Requirement already satisfied: pep562~=1.0 in /home/jovyan/.local/lib/python3.6/site-packages (from apache-airflow>=2.1.0->apache-airflow-providers-apache-spark) (1.1)\n",
      "Requirement already satisfied: flask-appbuilder<4.0.0,>=3.3.2 in /home/jovyan/.local/lib/python3.6/site-packages (from apache-airflow>=2.1.0->apache-airflow-providers-apache-spark) (3.3.3)\n",
      "Requirement already satisfied: pyjwt<2 in /home/jovyan/.local/lib/python3.6/site-packages (from apache-airflow>=2.1.0->apache-airflow-providers-apache-spark) (1.7.1)\n",
      "Requirement already satisfied: python3-openid~=3.2 in /home/jovyan/.local/lib/python3.6/site-packages (from apache-airflow>=2.1.0->apache-airflow-providers-apache-spark) (3.2.0)\n",
      "Requirement already satisfied: flask-caching<2.0.0,>=1.5.0 in /home/jovyan/.local/lib/python3.6/site-packages (from apache-airflow>=2.1.0->apache-airflow-providers-apache-spark) (1.10.1)\n",
      "Requirement already satisfied: dill<0.4,>=0.2.2 in /home/jovyan/.local/lib/python3.6/site-packages (from apache-airflow>=2.1.0->apache-airflow-providers-apache-spark) (0.3.4)\n",
      "Requirement already satisfied: dataclasses in /home/jovyan/.local/lib/python3.6/site-packages (from apache-airflow>=2.1.0->apache-airflow-providers-apache-spark) (0.8)\n",
      "Requirement already satisfied: openapi-spec-validator>=0.2.4 in /home/jovyan/.local/lib/python3.6/site-packages (from apache-airflow>=2.1.0->apache-airflow-providers-apache-spark) (0.3.1)\n",
      "Requirement already satisfied: markdown<4.0,>=2.5.2 in /usr/local/lib/python3.6/dist-packages (from apache-airflow>=2.1.0->apache-airflow-providers-apache-spark) (3.1.1)\n",
      "Requirement already satisfied: apache-airflow-providers-http in /home/jovyan/.local/lib/python3.6/site-packages (from apache-airflow>=2.1.0->apache-airflow-providers-apache-spark) (2.0.1)\n",
      "Requirement already satisfied: python-nvd3~=0.15.0 in /home/jovyan/.local/lib/python3.6/site-packages (from apache-airflow>=2.1.0->apache-airflow-providers-apache-spark) (0.15.0)\n",
      "Requirement already satisfied: argcomplete~=1.10 in /home/jovyan/.local/lib/python3.6/site-packages (from apache-airflow>=2.1.0->apache-airflow-providers-apache-spark) (1.12.3)\n",
      "Requirement already satisfied: graphviz>=0.12 in /home/jovyan/.local/lib/python3.6/site-packages (from apache-airflow>=2.1.0->apache-airflow-providers-apache-spark) (0.17)\n",
      "Requirement already satisfied: tenacity~=6.2.0 in /home/jovyan/.local/lib/python3.6/site-packages (from apache-airflow>=2.1.0->apache-airflow-providers-apache-spark) (6.2.0)\n",
      "Requirement already satisfied: clickclick>=1.2 in /home/jovyan/.local/lib/python3.6/site-packages (from apache-airflow>=2.1.0->apache-airflow-providers-apache-spark) (20.10.2)\n",
      "Requirement already satisfied: docutils<0.17 in /home/jovyan/.local/lib/python3.6/site-packages (from apache-airflow>=2.1.0->apache-airflow-providers-apache-spark) (0.16)\n",
      "Requirement already satisfied: swagger-ui-bundle>=0.0.2 in /home/jovyan/.local/lib/python3.6/site-packages (from apache-airflow>=2.1.0->apache-airflow-providers-apache-spark) (0.0.9)\n",
      "Requirement already satisfied: lazy-object-proxy in /home/jovyan/.local/lib/python3.6/site-packages (from apache-airflow>=2.1.0->apache-airflow-providers-apache-spark) (1.6.0)\n",
      "Requirement already satisfied: cattrs<1.1.0,>=1.0 in /home/jovyan/.local/lib/python3.6/site-packages (from apache-airflow>=2.1.0->apache-airflow-providers-apache-spark) (1.0.0)\n",
      "Requirement already satisfied: flask<2.0,>=1.1.0 in /home/jovyan/.local/lib/python3.6/site-packages (from apache-airflow>=2.1.0->apache-airflow-providers-apache-spark) (1.1.4)\n",
      "Requirement already satisfied: colorlog<6.0,>=4.0.2 in /home/jovyan/.local/lib/python3.6/site-packages (from apache-airflow>=2.1.0->apache-airflow-providers-apache-spark) (5.0.1)\n",
      "Requirement already satisfied: jsonschema~=3.0 in /usr/local/lib/python3.6/dist-packages (from apache-airflow>=2.1.0->apache-airflow-providers-apache-spark) (3.2.0)\n",
      "Requirement already satisfied: unicodecsv>=0.14.1 in /home/jovyan/.local/lib/python3.6/site-packages (from apache-airflow>=2.1.0->apache-airflow-providers-apache-spark) (0.14.1)\n",
      "Requirement already satisfied: pygments<3.0,>=2.0.1 in /home/jovyan/.local/lib/python3.6/site-packages (from apache-airflow>=2.1.0->apache-airflow-providers-apache-spark) (2.10.0)\n",
      "Requirement already satisfied: blinker in /home/jovyan/.local/lib/python3.6/site-packages (from apache-airflow>=2.1.0->apache-airflow-providers-apache-spark) (1.4)\n",
      "Requirement already satisfied: setproctitle<2,>=1.1.8 in /home/jovyan/.local/lib/python3.6/site-packages (from apache-airflow>=2.1.0->apache-airflow-providers-apache-spark) (1.2.2)\n",
      "Requirement already satisfied: croniter<1.1,>=0.3.17 in /home/jovyan/.local/lib/python3.6/site-packages (from apache-airflow>=2.1.0->apache-airflow-providers-apache-spark) (1.0.15)\n",
      "Requirement already satisfied: itsdangerous<2.0,>=1.1.0 in /home/jovyan/.local/lib/python3.6/site-packages (from apache-airflow>=2.1.0->apache-airflow-providers-apache-spark) (1.1.0)\n",
      "Requirement already satisfied: apache-airflow-providers-imap in /home/jovyan/.local/lib/python3.6/site-packages (from apache-airflow>=2.1.0->apache-airflow-providers-apache-spark) (2.0.1)\n",
      "Requirement already satisfied: tabulate<0.9,>=0.7.5 in /home/jovyan/.local/lib/python3.6/site-packages (from apache-airflow>=2.1.0->apache-airflow-providers-apache-spark) (0.8.9)\n",
      "Requirement already satisfied: httpx in /home/jovyan/.local/lib/python3.6/site-packages (from apache-airflow>=2.1.0->apache-airflow-providers-apache-spark) (0.19.0)\n",
      "Requirement already satisfied: termcolor>=1.1.0 in /usr/local/lib/python3.6/dist-packages (from apache-airflow>=2.1.0->apache-airflow-providers-apache-spark) (1.1.0)\n",
      "Requirement already satisfied: marshmallow-oneofschema>=2.0.1 in /home/jovyan/.local/lib/python3.6/site-packages (from apache-airflow>=2.1.0->apache-airflow-providers-apache-spark) (3.0.1)\n",
      "Requirement already satisfied: iso8601>=0.1.12 in /home/jovyan/.local/lib/python3.6/site-packages (from apache-airflow>=2.1.0->apache-airflow-providers-apache-spark) (0.1.16)\n",
      "Requirement already satisfied: lockfile>=0.12.2 in /home/jovyan/.local/lib/python3.6/site-packages (from apache-airflow>=2.1.0->apache-airflow-providers-apache-spark) (0.12.2)\n",
      "Requirement already satisfied: python-daemon>=2.2.4 in /home/jovyan/.local/lib/python3.6/site-packages (from apache-airflow>=2.1.0->apache-airflow-providers-apache-spark) (2.3.0)\n",
      "Requirement already satisfied: pyyaml>=5.1 in /usr/local/lib/python3.6/dist-packages (from apache-airflow>=2.1.0->apache-airflow-providers-apache-spark) (5.3)\n",
      "Requirement already satisfied: werkzeug>=1.0.1,~=1.0 in /home/jovyan/.local/lib/python3.6/site-packages (from apache-airflow>=2.1.0->apache-airflow-providers-apache-spark) (1.0.1)\n",
      "Requirement already satisfied: sqlalchemy-jsonfield~=1.0 in /home/jovyan/.local/lib/python3.6/site-packages (from apache-airflow>=2.1.0->apache-airflow-providers-apache-spark) (1.0.0)\n",
      "Requirement already satisfied: Mako in /home/jovyan/.local/lib/python3.6/site-packages (from alembic<2.0,>=1.2->apache-airflow>=2.1.0->apache-airflow-providers-apache-spark) (1.1.5)\n"
     ]
    },
    {
     "name": "stdout",
     "output_type": "stream",
     "text": [
      "Requirement already satisfied: click>=4.0 in /home/jovyan/.local/lib/python3.6/site-packages (from clickclick>=1.2->apache-airflow>=2.1.0->apache-airflow-providers-apache-spark) (7.1.2)\n",
      "Requirement already satisfied: prison<1.0.0,>=0.2.1 in /home/jovyan/.local/lib/python3.6/site-packages (from flask-appbuilder<4.0.0,>=3.3.2->apache-airflow>=2.1.0->apache-airflow-providers-apache-spark) (0.2.1)\n",
      "Requirement already satisfied: colorama<1,>=0.3.9 in /home/jovyan/.local/lib/python3.6/site-packages (from flask-appbuilder<4.0.0,>=3.3.2->apache-airflow>=2.1.0->apache-airflow-providers-apache-spark) (0.4.4)\n",
      "Requirement already satisfied: Flask-SQLAlchemy<3,>=2.4 in /home/jovyan/.local/lib/python3.6/site-packages (from flask-appbuilder<4.0.0,>=3.3.2->apache-airflow>=2.1.0->apache-airflow-providers-apache-spark) (2.5.1)\n",
      "Requirement already satisfied: Flask-Babel<2,>=1 in /home/jovyan/.local/lib/python3.6/site-packages (from flask-appbuilder<4.0.0,>=3.3.2->apache-airflow>=2.1.0->apache-airflow-providers-apache-spark) (1.0.0)\n",
      "Requirement already satisfied: marshmallow-enum<2,>=1.5.1 in /home/jovyan/.local/lib/python3.6/site-packages (from flask-appbuilder<4.0.0,>=3.3.2->apache-airflow>=2.1.0->apache-airflow-providers-apache-spark) (1.5.1)\n",
      "Requirement already satisfied: email-validator<2,>=1.0.5 in /home/jovyan/.local/lib/python3.6/site-packages (from flask-appbuilder<4.0.0,>=3.3.2->apache-airflow>=2.1.0->apache-airflow-providers-apache-spark) (1.1.3)\n",
      "Requirement already satisfied: marshmallow<4,>=3 in /home/jovyan/.local/lib/python3.6/site-packages (from flask-appbuilder<4.0.0,>=3.3.2->apache-airflow>=2.1.0->apache-airflow-providers-apache-spark) (3.13.0)\n",
      "Requirement already satisfied: sqlalchemy-utils<1,>=0.32.21 in /home/jovyan/.local/lib/python3.6/site-packages (from flask-appbuilder<4.0.0,>=3.3.2->apache-airflow>=2.1.0->apache-airflow-providers-apache-spark) (0.37.8)\n",
      "Requirement already satisfied: Flask-OpenID<2,>=1.2.5 in /home/jovyan/.local/lib/python3.6/site-packages (from flask-appbuilder<4.0.0,>=3.3.2->apache-airflow>=2.1.0->apache-airflow-providers-apache-spark) (1.3.0)\n",
      "Requirement already satisfied: marshmallow-sqlalchemy<0.24.0,>=0.22.0 in /home/jovyan/.local/lib/python3.6/site-packages (from flask-appbuilder<4.0.0,>=3.3.2->apache-airflow>=2.1.0->apache-airflow-providers-apache-spark) (0.23.1)\n",
      "Requirement already satisfied: apispec[yaml]<4,>=3.3 in /home/jovyan/.local/lib/python3.6/site-packages (from flask-appbuilder<4.0.0,>=3.3.2->apache-airflow>=2.1.0->apache-airflow-providers-apache-spark) (3.3.2)\n",
      "Requirement already satisfied: Flask-JWT-Extended<4,>=3.18 in /home/jovyan/.local/lib/python3.6/site-packages (from flask-appbuilder<4.0.0,>=3.3.2->apache-airflow>=2.1.0->apache-airflow-providers-apache-spark) (3.25.1)\n",
      "Requirement already satisfied: dnspython>=1.15.0 in /home/jovyan/.local/lib/python3.6/site-packages (from email-validator<2,>=1.0.5->flask-appbuilder<4.0.0,>=3.3.2->apache-airflow>=2.1.0->apache-airflow-providers-apache-spark) (2.1.0)\n",
      "Requirement already satisfied: idna>=2.0.0 in /home/jovyan/.local/lib/python3.6/site-packages (from email-validator<2,>=1.0.5->flask-appbuilder<4.0.0,>=3.3.2->apache-airflow>=2.1.0->apache-airflow-providers-apache-spark) (3.2)\n",
      "Requirement already satisfied: Babel>=2.3 in /home/jovyan/.local/lib/python3.6/site-packages (from Flask-Babel<2,>=1->flask-appbuilder<4.0.0,>=3.3.2->apache-airflow>=2.1.0->apache-airflow-providers-apache-spark) (2.9.1)\n",
      "Requirement already satisfied: pytz in /usr/local/lib/python3.6/dist-packages (from Flask-Babel<2,>=1->flask-appbuilder<4.0.0,>=3.3.2->apache-airflow>=2.1.0->apache-airflow-providers-apache-spark) (2019.3)\n",
      "Requirement already satisfied: six in /usr/local/lib/python3.6/dist-packages (from Flask-JWT-Extended<4,>=3.18->flask-appbuilder<4.0.0,>=3.3.2->apache-airflow>=2.1.0->apache-airflow-providers-apache-spark) (1.13.0)\n",
      "Requirement already satisfied: WTForms in /home/jovyan/.local/lib/python3.6/site-packages (from flask-wtf<0.15,>=0.14.3->apache-airflow>=2.1.0->apache-airflow-providers-apache-spark) (2.3.3)\n",
      "Requirement already satisfied: setuptools>=3.0 in /usr/local/lib/python3.6/dist-packages (from gunicorn>=19.5.0->apache-airflow>=2.1.0->apache-airflow-providers-apache-spark) (44.0.0)\n",
      "Requirement already satisfied: zipp>=0.5 in /usr/local/lib/python3.6/dist-packages (from importlib-metadata>=1.7->apache-airflow>=2.1.0->apache-airflow-providers-apache-spark) (0.6.0)\n",
      "Requirement already satisfied: pyrsistent>=0.14.0 in /usr/local/lib/python3.6/dist-packages (from jsonschema~=3.0->apache-airflow>=2.1.0->apache-airflow-providers-apache-spark) (0.15.7)\n",
      "Requirement already satisfied: openapi-schema-validator in /home/jovyan/.local/lib/python3.6/site-packages (from openapi-spec-validator>=0.2.4->apache-airflow>=2.1.0->apache-airflow-providers-apache-spark) (0.1.5)\n",
      "Requirement already satisfied: pytzdata>=2020.1 in /home/jovyan/.local/lib/python3.6/site-packages (from pendulum~=2.0->apache-airflow>=2.1.0->apache-airflow-providers-apache-spark) (2020.1)\n",
      "Requirement already satisfied: text-unidecode>=1.3 in /home/jovyan/.local/lib/python3.6/site-packages (from python-slugify<5.0,>=3.0.0->apache-airflow>=2.1.0->apache-airflow-providers-apache-spark) (1.3)\n",
      "Requirement already satisfied: defusedxml in /usr/local/lib/python3.6/dist-packages (from python3-openid~=3.2->apache-airflow>=2.1.0->apache-airflow-providers-apache-spark) (0.6.0)\n",
      "Requirement already satisfied: commonmark<0.10.0,>=0.9.0 in /home/jovyan/.local/lib/python3.6/site-packages (from rich>=9.2.0->apache-airflow>=2.1.0->apache-airflow-providers-apache-spark) (0.9.1)\n",
      "Requirement already satisfied: typing>=3.6 in /home/jovyan/.local/lib/python3.6/site-packages (from sqlalchemy-jsonfield~=1.0->apache-airflow>=2.1.0->apache-airflow-providers-apache-spark) (3.7.4.3)\n",
      "Requirement already satisfied: more-itertools in /usr/local/lib/python3.6/dist-packages (from zipp>=0.5->importlib-metadata>=1.7->apache-airflow>=2.1.0->apache-airflow-providers-apache-spark) (8.0.2)\n",
      "Requirement already satisfied: requests>=2.26.0 in /home/jovyan/.local/lib/python3.6/site-packages (from apache-airflow-providers-http->apache-airflow>=2.1.0->apache-airflow-providers-apache-spark) (2.26.0)\n",
      "Requirement already satisfied: charset-normalizer~=2.0.0 in /home/jovyan/.local/lib/python3.6/site-packages (from requests>=2.26.0->apache-airflow-providers-http->apache-airflow>=2.1.0->apache-airflow-providers-apache-spark) (2.0.6)\n",
      "Requirement already satisfied: urllib3<1.27,>=1.21.1 in /usr/local/lib/python3.6/dist-packages (from requests>=2.26.0->apache-airflow-providers-http->apache-airflow>=2.1.0->apache-airflow-providers-apache-spark) (1.25.7)\n",
      "Requirement already satisfied: certifi>=2017.4.17 in /usr/local/lib/python3.6/dist-packages (from requests>=2.26.0->apache-airflow-providers-http->apache-airflow>=2.1.0->apache-airflow-providers-apache-spark) (2019.11.28)\n",
      "Requirement already satisfied: async-generator in /home/jovyan/.local/lib/python3.6/site-packages (from httpx->apache-airflow>=2.1.0->apache-airflow-providers-apache-spark) (1.10)\n",
      "Requirement already satisfied: sniffio in /home/jovyan/.local/lib/python3.6/site-packages (from httpx->apache-airflow>=2.1.0->apache-airflow-providers-apache-spark) (1.2.0)\n",
      "Requirement already satisfied: rfc3986[idna2008]<2,>=1.3 in /home/jovyan/.local/lib/python3.6/site-packages (from httpx->apache-airflow>=2.1.0->apache-airflow-providers-apache-spark) (1.5.0)\n",
      "Requirement already satisfied: httpcore<0.14.0,>=0.13.3 in /home/jovyan/.local/lib/python3.6/site-packages (from httpx->apache-airflow>=2.1.0->apache-airflow-providers-apache-spark) (0.13.7)\n",
      "Requirement already satisfied: h11<0.13,>=0.11 in /home/jovyan/.local/lib/python3.6/site-packages (from httpcore<0.14.0,>=0.13.3->httpx->apache-airflow>=2.1.0->apache-airflow-providers-apache-spark) (0.12.0)\n",
      "Requirement already satisfied: anyio==3.* in /home/jovyan/.local/lib/python3.6/site-packages (from httpcore<0.14.0,>=0.13.3->httpx->apache-airflow>=2.1.0->apache-airflow-providers-apache-spark) (3.3.1)\n",
      "Requirement already satisfied: contextvars>=2.1 in /home/jovyan/.local/lib/python3.6/site-packages (from sniffio->httpx->apache-airflow>=2.1.0->apache-airflow-providers-apache-spark) (2.4)\n",
      "Requirement already satisfied: immutables>=0.9 in /home/jovyan/.local/lib/python3.6/site-packages (from contextvars>=2.1->sniffio->httpx->apache-airflow>=2.1.0->apache-airflow-providers-apache-spark) (0.16)\n"
     ]
    },
    {
     "name": "stdout",
     "output_type": "stream",
     "text": [
      "Requirement already satisfied: isodate in /home/jovyan/.local/lib/python3.6/site-packages (from openapi-schema-validator->openapi-spec-validator>=0.2.4->apache-airflow>=2.1.0->apache-airflow-providers-apache-spark) (0.6.0)\n",
      "Collecting py4j==0.10.9\n",
      "  Downloading py4j-0.10.9-py2.py3-none-any.whl (198 kB)\n",
      "\u001b[K     |████████████████████████████████| 198 kB 49.1 MB/s eta 0:00:01\n",
      "\u001b[?25hBuilding wheels for collected packages: pyspark\n",
      "  Building wheel for pyspark (setup.py) ... \u001b[?25ldone\n",
      "\u001b[?25h  Created wheel for pyspark: filename=pyspark-3.1.2-py2.py3-none-any.whl size=212882708 sha256=2165342cc6fed0249883d72a6904d268380a4f6713da61e71c679d787d793d4f\n",
      "  Stored in directory: /home/jovyan/.cache/pip/wheels/7a/2d/64/5c1411de860c9cbb22b41fc9d342f70c42e8e2cd69cf9259cd\n",
      "Successfully built pyspark\n",
      "Installing collected packages: py4j, pyspark, apache-airflow-providers-apache-spark\n",
      "Successfully installed apache-airflow-providers-apache-spark-2.0.1 py4j-0.10.9 pyspark-3.1.2\n"
     ]
    }
   ],
   "source": [
    "!pip install apache-airflow-providers-apache-spark"
   ]
  },
  {
   "cell_type": "code",
   "execution_count": 33,
   "metadata": {},
   "outputs": [
    {
     "ename": "ModuleNotFoundError",
     "evalue": "No module named 'load_to_batchlayer_ticker'",
     "output_type": "error",
     "traceback": [
      "\u001b[0;31m---------------------------------------------------------------------------\u001b[0m",
      "\u001b[0;31mModuleNotFoundError\u001b[0m                       Traceback (most recent call last)",
      "\u001b[0;32m<ipython-input-33-c16fd7065927>\u001b[0m in \u001b[0;36m<module>\u001b[0;34m\u001b[0m\n\u001b[1;32m      6\u001b[0m \u001b[0;34m\u001b[0m\u001b[0m\n\u001b[1;32m      7\u001b[0m \u001b[0;32mimport\u001b[0m \u001b[0mload_to_s3_from_nas\u001b[0m\u001b[0;34m\u001b[0m\u001b[0;34m\u001b[0m\u001b[0m\n\u001b[0;32m----> 8\u001b[0;31m \u001b[0;32mimport\u001b[0m \u001b[0mload_to_batchlayer_ticker\u001b[0m\u001b[0;34m\u001b[0m\u001b[0;34m\u001b[0m\u001b[0m\n\u001b[0m",
      "\u001b[0;31mModuleNotFoundError\u001b[0m: No module named 'load_to_batchlayer_ticker'"
     ]
    }
   ],
   "source": [
    "from datetime import timedelta, datetime\n",
    "from airflow import DAG\n",
    "from airflow.operators.python import PythonOperator,PythonVirtualenvOperator\n",
    "from airflow.operators.dummy import DummyOperator\n",
    "from airflow.contrib.operators.spark_submit_operator import SparkSubmitOperator\n",
    "\n",
    "import load_to_s3_from_nas\n",
    "import load_to_batchlayer_ticker"
   ]
  },
  {
   "cell_type": "code",
   "execution_count": 8,
   "metadata": {},
   "outputs": [],
   "source": [
    "default_args = {\n",
    "    'owner': 'mccho',\n",
    "    'depends_on_past': False,\n",
    "    'email': ['mccho8865@gmail.com'],\n",
    "    'email_on_failure': True,\n",
    "    'email_on_retry': False,\n",
    "    'retries': 3,\n",
    "    'retry_delay': timedelta(minutes=5),\n",
    "    # 'queue': 'bash_queue',\n",
    "    # 'pool': 'backfill',\n",
    "    # 'priority_weight': 10,\n",
    "    # 'end_date': datetime(2016, 1, 1),\n",
    "    # 'wait_for_downstream': False,\n",
    "    # 'dag': dag,\n",
    "    # 'sla': timedelta(hours=2),\n",
    "    # 'execution_timeout': timedelta(seconds=300),\n",
    "    # 'on_failure_callback': some_function,\n",
    "    # 'on_success_callback': some_other_function,\n",
    "    # 'on_retry_callback': another_function,\n",
    "    # 'sla_miss_callback': yet_another_function,\n",
    "    # 'trigger_rule': 'all_success'\n",
    "}"
   ]
  },
  {
   "cell_type": "code",
   "execution_count": 9,
   "metadata": {},
   "outputs": [],
   "source": [
    "dag = DAG(\n",
    "    'load_bithumb_ticker_hourly',\n",
    "    default_args=default_args,\n",
    "    description='A simple tutorial DAG',\n",
    "    schedule_interval='5 * * * *',\n",
    "    start_date=datetime(2021, 9, 15),\n",
    "    tags=['load', 'bithumb'],\n",
    ")"
   ]
  },
  {
   "cell_type": "code",
   "execution_count": 10,
   "metadata": {},
   "outputs": [],
   "source": [
    "start = DummyOperator(task_id=\"start\")\n",
    "end = DummyOperator(task_id=\"end\")"
   ]
  },
  {
   "cell_type": "code",
   "execution_count": 11,
   "metadata": {},
   "outputs": [],
   "source": [
    "# merge files about hourly ticker and upload to s3 from nas\n",
    "load_to_s3_from_nas = PythonOperator(\n",
    "    task_id='load_to_s3_from_nas',\n",
    "    python_callable=load_to_s3_from_nas.execute,\n",
    "    op_kwargs={'dt': '{{ ds.strftime(\"%Y-%m-%d\") }}',\n",
    "               'hh': '{{ ts.strftime(\"%H\")}}'},\n",
    "    dag=dag\n",
    ")"
   ]
  },
  {
   "cell_type": "code",
   "execution_count": 18,
   "metadata": {},
   "outputs": [
    {
     "data": {
      "text/plain": [
       "'//192.168.0.10/raw/ticker/dt=20210920/hh=00/000000.json'"
      ]
     },
     "execution_count": 18,
     "metadata": {},
     "output_type": "execute_result"
    }
   ],
   "source": [
    "# load unique ticker item to warehouse\n",
    "load_to_batchlayer_ticker = PythonOperator(\n",
    "    task_id='load_to_batchlayer_ticker',\n",
    "    python_callable=load_to_batchlayer_ticker.execute,\n",
    "    op_kwargs={'dt': '{{ ds.strftime(\"%Y-%m-%d\") }}',\n",
    "               'hh': '{{ ts.strftime(\"%H\")}}'},\n",
    "    dag=dag\n",
    ")"
   ]
  },
  {
   "cell_type": "code",
   "execution_count": 92,
   "metadata": {},
   "outputs": [
    {
     "name": "stdout",
     "output_type": "stream",
     "text": [
      "item count : 3600\n"
     ]
    }
   ],
   "source": [
    "start >> load_to_s3_from_nas >> load_to_batchlayer_ticker >> end"
   ]
  },
  {
   "cell_type": "code",
   "execution_count": 34,
   "metadata": {},
   "outputs": [],
   "source": [
    "import boto3\n"
   ]
  },
  {
   "cell_type": "code",
   "execution_count": 35,
   "metadata": {},
   "outputs": [
    {
     "data": {
      "text/plain": [
       "{'deploy-mode': 'cluster',\n",
       " 'spark_binary': 'spark-submit',\n",
       " 'spark_home': '/usr/local/spark',\n",
       " 'namespace': 'default'}"
      ]
     },
     "execution_count": 35,
     "metadata": {},
     "output_type": "execute_result"
    }
   ],
   "source": [
    "{'deploy-mode': 'cluster', 'spark_binary': 'spark-submit', 'spark_home': '/usr/local/spark', 'namespace': 'default'}"
   ]
  },
  {
   "cell_type": "code",
   "execution_count": 22,
   "metadata": {},
   "outputs": [
    {
     "data": {
      "text/plain": [
       "'15'"
      ]
     },
     "execution_count": 22,
     "metadata": {},
     "output_type": "execute_result"
    }
   ],
   "source": [
    "\n",
    "datetime.strptime('2021-09-15T15:05:00+00:00', '%Y-%m-%dT%H:%M:%S+00:00').strftime('%H')"
   ]
  },
  {
   "cell_type": "code",
   "execution_count": 31,
   "metadata": {},
   "outputs": [
    {
     "name": "stdout",
     "output_type": "stream",
     "text": [
      "/raw/ticker/dt=2021-09-16/hh=00 /raw/ticker_merged/dt=2021-09-16\n"
     ]
    }
   ],
   "source": [
    "def load_to_s3_from_nas(ts):\n",
    "    kst = pytz.timezone('Asia/Seoul')\n",
    "    ts = datetime.strptime(ts, '%Y-%m-%dT%H:%M:%S+00:00')\n",
    "    ts = ts.astimezone(kst)\n",
    "    dt = ts.strftime(\"%Y-%m-%d\")\n",
    "    hh = ts.strftime(\"%H\")\n",
    "    read_dir = f\"/raw/ticker/dt={dt}/hh={hh}\"\n",
    "    write_dir = f\"/raw/ticker_merged/dt={dt}\"\n",
    "    print(read_dir, write_dir)\n",
    "#     item_list = []\n",
    "#     with ftplib.FTP() as ftp:\n",
    "#         ftp.connect(\"192.168.0.10\", 21)\n",
    "#         ftp.login()\n",
    "#         ftp.cwd(read_dir)\n",
    "#         file_list = ftp.nlst()\n",
    "\n",
    "#         for file in file_list:\n",
    "#             item = []\n",
    "#             ftp.retrlines(f\"RETR {file}\", item.append)\n",
    "#             item_list.append(\"\".join(item).replace(\" \", \"\"))\n",
    "#         print(f\"item count : {len(item_list)}\")\n",
    "\n",
    "#     k = Key(coin_bucket)\n",
    "#     k.key = f\"warehouse/raw/ticker/dt={dt}/hh_{hh}.txt\"\n",
    "#     k.set_contents_from_string(\"\\n\".join(item_list))\n",
    "load_to_s3_from_nas('2021-09-15T15:05:00+00:00')"
   ]
  }
 ],
 "metadata": {
  "kernelspec": {
   "display_name": "Python 3",
   "language": "python",
   "name": "python3"
  },
  "language_info": {
   "codemirror_mode": {
    "name": "ipython",
    "version": 3
   },
   "file_extension": ".py",
   "mimetype": "text/x-python",
   "name": "python",
   "nbconvert_exporter": "python",
   "pygments_lexer": "ipython3",
   "version": "3.6.9"
  }
 },
 "nbformat": 4,
 "nbformat_minor": 4
}
