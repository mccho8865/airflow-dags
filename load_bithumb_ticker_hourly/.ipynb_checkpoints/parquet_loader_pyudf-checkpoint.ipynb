{
 "cells": [
  {
   "cell_type": "code",
   "execution_count": null,
   "metadata": {
    "tags": [
     "parameters"
    ]
   },
   "outputs": [],
   "source": []
  },
  {
   "cell_type": "code",
   "execution_count": null,
   "metadata": {},
   "outputs": [],
   "source": [
    "from pyspark import *\n",
    "from pyspark.sql import SparkSession\n",
    "\n",
    "import os\n",
    "import socket\n",
    "\n",
    "pod_ip = socket.gethostbyname(socket.gethostname())\n",
    "os.environ['PYSPARK_PYTHON'] = 'python3' # Needs to be explicitly provided as env. Otherwise workers run Python 2.7\n",
    "os.environ['PYSPARK_DRIVER_PYTHON'] = 'python3'  # Same\n",
    "\n",
    "conf = SparkConf()\n",
    "conf.setAppName('rawfile_to_parquet')\n",
    "conf.set('spark.driver.extraJavaOptions', '-Dio.netty.tryReflectionSetAccessible=true')\n",
    "conf.set('spark.executor.extraJavaOptions', '-Dio.netty.tryReflectionSetAccessible=true')\n",
    "conf.set('spark.kubernetes.container.image', 'mccho8865/spark-py:3.0.2')\n",
    "# conf.set('spark.master', 'k8s://https://kubernetes.default.svc')\n",
    "conf.set('spark.master', 'k8s://https://192.168.0.2:6443')\n",
    "conf.set('spark.submit.deployMode', 'client')\n",
    "conf.set('spark.hadoop.fs.s3a.fast.upload', 'true')\n",
    "# conf.set('spark.hadoop.fs.s3a.endpoint', 'rook-ceph-rgw-my-store.rook-ceph.svc')\n",
    "conf.set('spark.hadoop.fs.s3a.endpoint', '192.168.0.2:30229')\n",
    "conf.set('spark.hadoop.fs.s3a.connection.ssl.enabled', 'false')\n",
    "conf.set('spark.hadoop.fs.s3a.path.style.access', 'true')\n",
    "conf.set('spark.hadoop.fs.s3a.access.key', 'Z780FG2AP64YD0Y2EWS8')\n",
    "conf.set('spark.hadoop.fs.s3a.secret.key', 'akGdNm3vY9xSCcyscq8StdTh6BMRGtt9FChidPgn')\n",
    "conf.set('spark.hadoop.fs.s3a.impl', 'org.apache.hadoop.fs.s3a.S3AFileSystem')\n",
    "conf.set('spark.kubernetes.file.upload.path', 's3a://spark')\n",
    "conf.set('spark.kubernetes.node.selector.spark', '')\n",
    "conf.set('spark.sql.session.timeZone', 'Asia/Seoul')\n",
    "conf.set('spark.driver.extraJavaOptions', '-Duser.timezone=Asia/Seoul')\n",
    "conf.set('spark.executor.extraJavaOptions', '-Duser.timezone=Asia/Seoul')\n",
    "conf.set('spark.eventLog.enabled', 'True')\n",
    "conf.set('spark.eventLog.dir', 's3a://logs/spark-hs/')\n",
    "\n",
    "conf.set('spark.jars', '/jars/hadoop-aws-3.2.0.jar,/jars/aws-java-sdk-bundle-1.12.103.jar')\n",
    "conf.set('spark.executor.instances', '1')\n",
    "conf.set('spark.driver.memory', '4g')\n",
    "conf.set('spark.executor.memory', '16g')\n",
    "conf.set('spark.driver.host', pod_ip)\n",
    "conf.set(\"spark.sql.sources.partitionOverwriteMode\",\"dynamic\")\n",
    "\n",
    "sc = SparkContext.getOrCreate(conf=conf)\n",
    "\n",
    "spark = SparkSession(sc)"
   ]
  },
  {
   "cell_type": "code",
   "execution_count": null,
   "metadata": {},
   "outputs": [],
   "source": [
    "raw_df = spark.read.option(\"mode\", \"DROPMALFORMED\").text('s3a://coin-bucket/warehouse/raw/ticker/')\n",
    "raw_df = raw_df.where(f\"dt = '{dt}'\")\n",
    "# raw_df = raw_df.where(\"20210513 <= dt and dt < 20210610\")"
   ]
  },
  {
   "cell_type": "code",
   "execution_count": null,
   "metadata": {
    "scrolled": true
   },
   "outputs": [],
   "source": [
    "raw_df.explain()"
   ]
  },
  {
   "cell_type": "code",
   "execution_count": null,
   "metadata": {},
   "outputs": [],
   "source": [
    "raw_df.show()"
   ]
  },
  {
   "cell_type": "code",
   "execution_count": null,
   "metadata": {},
   "outputs": [],
   "source": [
    "raw_df.explain()"
   ]
  },
  {
   "cell_type": "code",
   "execution_count": null,
   "metadata": {},
   "outputs": [],
   "source": [
    "raw_df.groupby('dt').count().show()"
   ]
  },
  {
   "cell_type": "code",
   "execution_count": null,
   "metadata": {},
   "outputs": [],
   "source": [
    "from pyspark.sql.functions import from_json, col\n",
    "from pyspark.sql.types import *\n",
    "value_schema = StructType([ StructField('data', StringType()),\n",
    "                            StructField('status', StringType())])\n",
    "value_df = raw_df.withColumn('value_json', from_json('value', value_schema)) \\\n",
    "                 .select(col('value_json.data').alias('data'), col('value_json.status').alias('status'))\n",
    "value_df = value_df.filter('status = 0000').select('data')\n",
    "value_df.cache()\n",
    "# value_df.limit(10).toPandas()['data'][0]"
   ]
  },
  {
   "cell_type": "code",
   "execution_count": null,
   "metadata": {},
   "outputs": [],
   "source": [
    "value_df.show()"
   ]
  },
  {
   "cell_type": "code",
   "execution_count": null,
   "metadata": {},
   "outputs": [],
   "source": [
    "ticker_schema = StructType([StructField('acc_trade_value', StringType(), True),\n",
    "                            StructField('acc_trade_value_24H', StringType(), True),\n",
    "                            StructField('closing_price', StringType(), True),\n",
    "                            StructField('fluctate_24H', StringType(), True),\n",
    "                            StructField('fluctate_rate_24H', StringType(), True),\n",
    "                            StructField('max_price', StringType(), True),\n",
    "                            StructField('min_price', StringType(), True),\n",
    "                            StructField('opening_price', StringType(), True),\n",
    "                            StructField('prev_closing_price', StringType(), True),\n",
    "                            StructField('units_traded', StringType(), True),\n",
    "                            StructField('units_traded_24H', StringType(), True),\n",
    "                            StructField('coin', StringType(), True),\n",
    "                            StructField('timestamp', StringType(), True)])\n",
    "ticker_array_schema = ArrayType(ticker_schema, True)"
   ]
  },
  {
   "cell_type": "code",
   "execution_count": null,
   "metadata": {},
   "outputs": [],
   "source": [
    "import json\n",
    "from pyspark.sql.functions import udf, explode, from_unixtime, to_date\n",
    "@udf(ticker_array_schema)\n",
    "def parse_raw_ticker(data):\n",
    "    data = json.loads(data)\n",
    "    timestamp = data['date']\n",
    "    del data['date']\n",
    "    coins = list(data.keys())\n",
    "    out = []\n",
    "    for coin in coins:\n",
    "        coin_item = data[coin]\n",
    "        coin_item[\"coin\"] = coin\n",
    "        coin_item[\"timestamp\"] = timestamp\n",
    "        out.append(coin_item)\n",
    "    return out"
   ]
  },
  {
   "cell_type": "code",
   "execution_count": null,
   "metadata": {},
   "outputs": [],
   "source": [
    "parsed_df = value_df.withColumn('parsed_arr', explode(parse_raw_ticker('data')))\n",
    "parsed_df = parsed_df.select('parsed_arr.*')"
   ]
  },
  {
   "cell_type": "code",
   "execution_count": null,
   "metadata": {},
   "outputs": [],
   "source": [
    "parsed_df.show(10)"
   ]
  },
  {
   "cell_type": "code",
   "execution_count": null,
   "metadata": {
    "scrolled": true
   },
   "outputs": [],
   "source": [
    "out_df = parsed_df.select(col('coin').cast(StringType()),\n",
    "                         from_unixtime(col('timestamp')/1000).alias('timestamp'),\n",
    "                         col('opening_price').cast(DoubleType()),\n",
    "                         col('closing_price').cast(DoubleType()),\n",
    "                         col('min_price').cast(DoubleType()),\n",
    "                         col('max_price').cast(DoubleType()),\n",
    "                         col('units_traded').cast(DoubleType()),\n",
    "                         col('acc_trade_value').cast(DoubleType()),\n",
    "                         col('prev_closing_price').cast(DoubleType()),\n",
    "                         col('units_traded_24H').cast(DoubleType()),\n",
    "                         col('acc_trade_value_24H').cast(DoubleType()),\n",
    "                         col('fluctate_24H').cast(DoubleType()),\n",
    "                         col('fluctate_rate_24H').cast(DoubleType()),\n",
    "                         from_unixtime(col('timestamp')/1000, 'yyyy-MM-dd').alias('dt'))\n",
    "out_df = out_df.distinct()"
   ]
  },
  {
   "cell_type": "code",
   "execution_count": null,
   "metadata": {},
   "outputs": [],
   "source": [
    "out_df.repartition('dt').write.partitionBy(['dt']).mode('overwrite').parquet('s3a://coin-bucket/warehouse/data/ticker')"
   ]
  },
  {
   "cell_type": "code",
   "execution_count": null,
   "metadata": {},
   "outputs": [],
   "source": [
    "spark.stop()"
   ]
  }
 ],
 "metadata": {
  "celltoolbar": "Tags",
  "kernelspec": {
   "display_name": "Python 3",
   "language": "python",
   "name": "python3"
  },
  "language_info": {
   "codemirror_mode": {
    "name": "ipython",
    "version": 3
   },
   "file_extension": ".py",
   "mimetype": "text/x-python",
   "name": "python",
   "nbconvert_exporter": "python",
   "pygments_lexer": "ipython3",
   "version": "3.6.9"
  }
 },
 "nbformat": 4,
 "nbformat_minor": 5
}
