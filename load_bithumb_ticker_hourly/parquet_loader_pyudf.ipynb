{
 "cells": [
  {
   "cell_type": "code",
   "execution_count": 7,
   "metadata": {},
   "outputs": [
    {
     "ename": "Exception",
     "evalue": "Java gateway process exited before sending its port number",
     "output_type": "error",
     "traceback": [
      "\u001b[0;31m---------------------------------------------------------------------------\u001b[0m",
      "\u001b[0;31mException\u001b[0m                                 Traceback (most recent call last)",
      "\u001b[0;32m<ipython-input-7-e7d818fbc22d>\u001b[0m in \u001b[0;36m<module>\u001b[0;34m\u001b[0m\n\u001b[1;32m     37\u001b[0m \u001b[0;34m\u001b[0m\u001b[0m\n\u001b[1;32m     38\u001b[0m \u001b[0;34m\u001b[0m\u001b[0m\n\u001b[0;32m---> 39\u001b[0;31m \u001b[0msc\u001b[0m \u001b[0;34m=\u001b[0m \u001b[0mSparkContext\u001b[0m\u001b[0;34m.\u001b[0m\u001b[0mgetOrCreate\u001b[0m\u001b[0;34m(\u001b[0m\u001b[0mconf\u001b[0m\u001b[0;34m=\u001b[0m\u001b[0mconf\u001b[0m\u001b[0;34m)\u001b[0m\u001b[0;34m\u001b[0m\u001b[0;34m\u001b[0m\u001b[0m\n\u001b[0m\u001b[1;32m     40\u001b[0m \u001b[0;34m\u001b[0m\u001b[0m\n\u001b[1;32m     41\u001b[0m \u001b[0mspark\u001b[0m \u001b[0;34m=\u001b[0m \u001b[0mSparkSession\u001b[0m\u001b[0;34m(\u001b[0m\u001b[0msc\u001b[0m\u001b[0;34m)\u001b[0m\u001b[0;34m\u001b[0m\u001b[0;34m\u001b[0m\u001b[0m\n",
      "\u001b[0;32m~/.local/lib/python3.6/site-packages/pyspark/context.py\u001b[0m in \u001b[0;36mgetOrCreate\u001b[0;34m(cls, conf)\u001b[0m\n\u001b[1;32m    382\u001b[0m         \u001b[0;32mwith\u001b[0m \u001b[0mSparkContext\u001b[0m\u001b[0;34m.\u001b[0m\u001b[0m_lock\u001b[0m\u001b[0;34m:\u001b[0m\u001b[0;34m\u001b[0m\u001b[0;34m\u001b[0m\u001b[0m\n\u001b[1;32m    383\u001b[0m             \u001b[0;32mif\u001b[0m \u001b[0mSparkContext\u001b[0m\u001b[0;34m.\u001b[0m\u001b[0m_active_spark_context\u001b[0m \u001b[0;32mis\u001b[0m \u001b[0;32mNone\u001b[0m\u001b[0;34m:\u001b[0m\u001b[0;34m\u001b[0m\u001b[0;34m\u001b[0m\u001b[0m\n\u001b[0;32m--> 384\u001b[0;31m                 \u001b[0mSparkContext\u001b[0m\u001b[0;34m(\u001b[0m\u001b[0mconf\u001b[0m\u001b[0;34m=\u001b[0m\u001b[0mconf\u001b[0m \u001b[0;32mor\u001b[0m \u001b[0mSparkConf\u001b[0m\u001b[0;34m(\u001b[0m\u001b[0;34m)\u001b[0m\u001b[0;34m)\u001b[0m\u001b[0;34m\u001b[0m\u001b[0;34m\u001b[0m\u001b[0m\n\u001b[0m\u001b[1;32m    385\u001b[0m             \u001b[0;32mreturn\u001b[0m \u001b[0mSparkContext\u001b[0m\u001b[0;34m.\u001b[0m\u001b[0m_active_spark_context\u001b[0m\u001b[0;34m\u001b[0m\u001b[0;34m\u001b[0m\u001b[0m\n\u001b[1;32m    386\u001b[0m \u001b[0;34m\u001b[0m\u001b[0m\n",
      "\u001b[0;32m~/.local/lib/python3.6/site-packages/pyspark/context.py\u001b[0m in \u001b[0;36m__init__\u001b[0;34m(self, master, appName, sparkHome, pyFiles, environment, batchSize, serializer, conf, gateway, jsc, profiler_cls)\u001b[0m\n\u001b[1;32m    142\u001b[0m                 \" is not allowed as it is a security risk.\")\n\u001b[1;32m    143\u001b[0m \u001b[0;34m\u001b[0m\u001b[0m\n\u001b[0;32m--> 144\u001b[0;31m         \u001b[0mSparkContext\u001b[0m\u001b[0;34m.\u001b[0m\u001b[0m_ensure_initialized\u001b[0m\u001b[0;34m(\u001b[0m\u001b[0mself\u001b[0m\u001b[0;34m,\u001b[0m \u001b[0mgateway\u001b[0m\u001b[0;34m=\u001b[0m\u001b[0mgateway\u001b[0m\u001b[0;34m,\u001b[0m \u001b[0mconf\u001b[0m\u001b[0;34m=\u001b[0m\u001b[0mconf\u001b[0m\u001b[0;34m)\u001b[0m\u001b[0;34m\u001b[0m\u001b[0;34m\u001b[0m\u001b[0m\n\u001b[0m\u001b[1;32m    145\u001b[0m         \u001b[0;32mtry\u001b[0m\u001b[0;34m:\u001b[0m\u001b[0;34m\u001b[0m\u001b[0;34m\u001b[0m\u001b[0m\n\u001b[1;32m    146\u001b[0m             self._do_init(master, appName, sparkHome, pyFiles, environment, batchSize, serializer,\n",
      "\u001b[0;32m~/.local/lib/python3.6/site-packages/pyspark/context.py\u001b[0m in \u001b[0;36m_ensure_initialized\u001b[0;34m(cls, instance, gateway, conf)\u001b[0m\n\u001b[1;32m    329\u001b[0m         \u001b[0;32mwith\u001b[0m \u001b[0mSparkContext\u001b[0m\u001b[0;34m.\u001b[0m\u001b[0m_lock\u001b[0m\u001b[0;34m:\u001b[0m\u001b[0;34m\u001b[0m\u001b[0;34m\u001b[0m\u001b[0m\n\u001b[1;32m    330\u001b[0m             \u001b[0;32mif\u001b[0m \u001b[0;32mnot\u001b[0m \u001b[0mSparkContext\u001b[0m\u001b[0;34m.\u001b[0m\u001b[0m_gateway\u001b[0m\u001b[0;34m:\u001b[0m\u001b[0;34m\u001b[0m\u001b[0;34m\u001b[0m\u001b[0m\n\u001b[0;32m--> 331\u001b[0;31m                 \u001b[0mSparkContext\u001b[0m\u001b[0;34m.\u001b[0m\u001b[0m_gateway\u001b[0m \u001b[0;34m=\u001b[0m \u001b[0mgateway\u001b[0m \u001b[0;32mor\u001b[0m \u001b[0mlaunch_gateway\u001b[0m\u001b[0;34m(\u001b[0m\u001b[0mconf\u001b[0m\u001b[0;34m)\u001b[0m\u001b[0;34m\u001b[0m\u001b[0;34m\u001b[0m\u001b[0m\n\u001b[0m\u001b[1;32m    332\u001b[0m                 \u001b[0mSparkContext\u001b[0m\u001b[0;34m.\u001b[0m\u001b[0m_jvm\u001b[0m \u001b[0;34m=\u001b[0m \u001b[0mSparkContext\u001b[0m\u001b[0;34m.\u001b[0m\u001b[0m_gateway\u001b[0m\u001b[0;34m.\u001b[0m\u001b[0mjvm\u001b[0m\u001b[0;34m\u001b[0m\u001b[0;34m\u001b[0m\u001b[0m\n\u001b[1;32m    333\u001b[0m \u001b[0;34m\u001b[0m\u001b[0m\n",
      "\u001b[0;32m~/.local/lib/python3.6/site-packages/pyspark/java_gateway.py\u001b[0m in \u001b[0;36mlaunch_gateway\u001b[0;34m(conf, popen_kwargs)\u001b[0m\n\u001b[1;32m    106\u001b[0m \u001b[0;34m\u001b[0m\u001b[0m\n\u001b[1;32m    107\u001b[0m             \u001b[0;32mif\u001b[0m \u001b[0;32mnot\u001b[0m \u001b[0mos\u001b[0m\u001b[0;34m.\u001b[0m\u001b[0mpath\u001b[0m\u001b[0;34m.\u001b[0m\u001b[0misfile\u001b[0m\u001b[0;34m(\u001b[0m\u001b[0mconn_info_file\u001b[0m\u001b[0;34m)\u001b[0m\u001b[0;34m:\u001b[0m\u001b[0;34m\u001b[0m\u001b[0;34m\u001b[0m\u001b[0m\n\u001b[0;32m--> 108\u001b[0;31m                 \u001b[0;32mraise\u001b[0m \u001b[0mException\u001b[0m\u001b[0;34m(\u001b[0m\u001b[0;34m\"Java gateway process exited before sending its port number\"\u001b[0m\u001b[0;34m)\u001b[0m\u001b[0;34m\u001b[0m\u001b[0;34m\u001b[0m\u001b[0m\n\u001b[0m\u001b[1;32m    109\u001b[0m \u001b[0;34m\u001b[0m\u001b[0m\n\u001b[1;32m    110\u001b[0m             \u001b[0;32mwith\u001b[0m \u001b[0mopen\u001b[0m\u001b[0;34m(\u001b[0m\u001b[0mconn_info_file\u001b[0m\u001b[0;34m,\u001b[0m \u001b[0;34m\"rb\"\u001b[0m\u001b[0;34m)\u001b[0m \u001b[0;32mas\u001b[0m \u001b[0minfo\u001b[0m\u001b[0;34m:\u001b[0m\u001b[0;34m\u001b[0m\u001b[0;34m\u001b[0m\u001b[0m\n",
      "\u001b[0;31mException\u001b[0m: Java gateway process exited before sending its port number"
     ]
    }
   ],
   "source": [
    "from pyspark import *\n",
    "from pyspark.sql import SparkSession\n",
    "\n",
    "import os\n",
    "import socket\n",
    "\n",
    "pod_ip = socket.gethostbyname(socket.gethostname())\n",
    "os.environ['PYSPARK_PYTHON'] = 'python3' # Needs to be explicitly provided as env. Otherwise workers run Python 2.7\n",
    "os.environ['PYSPARK_DRIVER_PYTHON'] = 'python3'  # Same\n",
    "\n",
    "conf = SparkConf([('spark.executor.instances', '5'),\n",
    "            ('spark.driver.memory', '4g'),\n",
    "            ('spark.executor.memory', '16g'),\n",
    "            ('spark.driver.host', pod_ip),\n",
    "            (\"spark.sql.sources.partitionOverwriteMode\",\"dynamic\"),\n",
    "            ('spark.driver.extraJavaOptions', '-Dio.netty.tryReflectionSetAccessible=true'),\n",
    "            ('spark.executor.extraJavaOptions', '-Dio.netty.tryReflectionSetAccessible=true'),\n",
    "            ('spark.kubernetes.container.image', 'mccho8865/spark-py:3.0.2'),\n",
    "            ('spark.master', 'k8s://https://kubernetes.default.svc'),\n",
    "            ('spark.submit.deployMode', 'client'),\n",
    "            ('spark.hadoop.fs.s3a.fast.upload', 'true'),\n",
    "            ('spark.hadoop.fs.s3a.endpoint', 'rook-ceph-rgw-my-store.rook-ceph.svc'),\n",
    "            ('spark.hadoop.fs.s3a.connection.ssl.enabled', 'false'),\n",
    "            ('spark.hadoop.fs.s3a.path.style.access', 'true'),\n",
    "            ('spark.hadoop.fs.s3a.access.key', 'Z780FG2AP64YD0Y2EWS8'),\n",
    "            ('spark.hadoop.fs.s3a.secret.key', 'akGdNm3vY9xSCcyscq8StdTh6BMRGtt9FChidPgn'),\n",
    "            ('spark.hadoop.fs.s3a.impl', 'org.apache.hadoop.fs.s3a.S3AFileSystem'),\n",
    "            ('spark.kubernetes.file.upload.path', 's3a://spark'),\n",
    "            ('spark.kubernetes.node.selector.spark'),\n",
    "            ('spark.sql.session.timeZone', 'Asia/Seoul'),\n",
    "            ('spark.driver.extraJavaOptions', '-Duser.timezone=Asia/Seoul'),\n",
    "            ('spark.executor.extraJavaOptions', '-Duser.timezone=Asia/Seoul'),\n",
    "            ('spark.eventLog.enabled', 'True'),\n",
    "            ('spark.eventLog.dir', 's3a://spark-hs//')\n",
    "            ])\n",
    "# conf.setAppName('rawfile_to_parquet')\n",
    "\n",
    "\n",
    "sc = SparkContext.getOrCreate(conf=conf)\n",
    "\n",
    "spark = SparkSession(sc)"
   ]
  },
  {
   "cell_type": "code",
   "execution_count": null,
   "metadata": {},
   "outputs": [],
   "source": [
    "dt = "
   ]
  },
  {
   "cell_type": "code",
   "execution_count": 2,
   "metadata": {},
   "outputs": [],
   "source": [
    "raw_df = spark.read.option(\"mode\", \"DROPMALFORMED\").text('s3a://coin-bucket/warehouse/raw/ticker/')\n",
    "raw_df = raw_df.where(\"dt >= 20210607\")\n",
    "# raw_df = raw_df.where(\"20210513 <= dt and dt < 20210610\")"
   ]
  },
  {
   "cell_type": "code",
   "execution_count": 3,
   "metadata": {
    "scrolled": true
   },
   "outputs": [
    {
     "name": "stdout",
     "output_type": "stream",
     "text": [
      "== Physical Plan ==\n",
      "FileScan text [value#0,dt#1] Batched: false, DataFilters: [], Format: Text, Location: InMemoryFileIndex[s3a://coin-bucket/warehouse/raw/ticker], PartitionFilters: [isnotnull(dt#1), (dt#1 >= 20210607)], PushedFilters: [], ReadSchema: struct<value:string>\n",
      "\n",
      "\n"
     ]
    }
   ],
   "source": [
    "raw_df.explain()"
   ]
  },
  {
   "cell_type": "code",
   "execution_count": 4,
   "metadata": {},
   "outputs": [
    {
     "name": "stdout",
     "output_type": "stream",
     "text": [
      "+--------------------+--------+\n",
      "|               value|      dt|\n",
      "+--------------------+--------+\n",
      "|{    \"data\": {   ...|20210829|\n",
      "|{    \"data\": {   ...|20210829|\n",
      "|{    \"data\": {   ...|20210829|\n",
      "|{    \"data\": {   ...|20210829|\n",
      "|{    \"data\": {   ...|20210829|\n",
      "|{    \"data\": {   ...|20210829|\n",
      "|{    \"data\": {   ...|20210829|\n",
      "|{    \"data\": {   ...|20210829|\n",
      "|{    \"data\": {   ...|20210829|\n",
      "|{    \"data\": {   ...|20210829|\n",
      "|{    \"data\": {   ...|20210829|\n",
      "|{    \"data\": {   ...|20210829|\n",
      "|{    \"data\": {   ...|20210829|\n",
      "|{    \"data\": {   ...|20210829|\n",
      "|{    \"data\": {   ...|20210829|\n",
      "|{    \"data\": {   ...|20210829|\n",
      "|{    \"data\": {   ...|20210829|\n",
      "|{    \"data\": {   ...|20210829|\n",
      "|{    \"data\": {   ...|20210829|\n",
      "|{    \"data\": {   ...|20210829|\n",
      "+--------------------+--------+\n",
      "only showing top 20 rows\n",
      "\n"
     ]
    }
   ],
   "source": [
    "raw_df.show()"
   ]
  },
  {
   "cell_type": "code",
   "execution_count": 5,
   "metadata": {},
   "outputs": [
    {
     "name": "stdout",
     "output_type": "stream",
     "text": [
      "== Physical Plan ==\n",
      "FileScan text [value#0,dt#1] Batched: false, DataFilters: [], Format: Text, Location: InMemoryFileIndex[s3a://coin-bucket/warehouse/raw/ticker], PartitionFilters: [isnotnull(dt#1), (dt#1 >= 20210607)], PushedFilters: [], ReadSchema: struct<value:string>\n",
      "\n",
      "\n"
     ]
    }
   ],
   "source": [
    "raw_df.explain()"
   ]
  },
  {
   "cell_type": "code",
   "execution_count": 6,
   "metadata": {},
   "outputs": [
    {
     "name": "stdout",
     "output_type": "stream",
     "text": [
      "+--------+-----+\n",
      "|      dt|count|\n",
      "+--------+-----+\n",
      "|20210910|86399|\n",
      "|20210827|86380|\n",
      "|20210911|86400|\n",
      "|20210901|86388|\n",
      "|20210908|86400|\n",
      "|20210907|86400|\n",
      "|20210830|86400|\n",
      "|20210903|86400|\n",
      "|20210905|86400|\n",
      "|20210902|86380|\n",
      "|20210912|86400|\n",
      "|20210829|86400|\n",
      "|20210913|86393|\n",
      "|20210828|86400|\n",
      "|20210904|86400|\n",
      "|20210906|86398|\n",
      "|20210914|86400|\n",
      "|20210831|86400|\n",
      "|20210909|86400|\n",
      "+--------+-----+\n",
      "\n"
     ]
    }
   ],
   "source": [
    "raw_df.groupby('dt').count().show()"
   ]
  },
  {
   "cell_type": "code",
   "execution_count": 7,
   "metadata": {},
   "outputs": [
    {
     "data": {
      "text/plain": [
       "DataFrame[data: string]"
      ]
     },
     "execution_count": 7,
     "metadata": {},
     "output_type": "execute_result"
    }
   ],
   "source": [
    "from pyspark.sql.functions import from_json, col\n",
    "from pyspark.sql.types import *\n",
    "value_schema = StructType([ StructField('data', StringType()),\n",
    "                            StructField('status', StringType())])\n",
    "value_df = raw_df.withColumn('value_json', from_json('value', value_schema)) \\\n",
    "                 .select(col('value_json.data').alias('data'), col('value_json.status').alias('status'))\n",
    "value_df = value_df.filter('status = 0000').select('data')\n",
    "value_df.cache()\n",
    "# value_df.limit(10).toPandas()['data'][0]"
   ]
  },
  {
   "cell_type": "code",
   "execution_count": 8,
   "metadata": {},
   "outputs": [
    {
     "name": "stdout",
     "output_type": "stream",
     "text": [
      "+--------------------+\n",
      "|                data|\n",
      "+--------------------+\n",
      "|{\"AAVE\":{\"acc_tra...|\n",
      "|{\"AAVE\":{\"acc_tra...|\n",
      "|{\"AAVE\":{\"acc_tra...|\n",
      "|{\"AAVE\":{\"acc_tra...|\n",
      "|{\"AAVE\":{\"acc_tra...|\n",
      "|{\"AAVE\":{\"acc_tra...|\n",
      "|{\"AAVE\":{\"acc_tra...|\n",
      "|{\"AAVE\":{\"acc_tra...|\n",
      "|{\"AAVE\":{\"acc_tra...|\n",
      "|{\"AAVE\":{\"acc_tra...|\n",
      "|{\"AAVE\":{\"acc_tra...|\n",
      "|{\"AAVE\":{\"acc_tra...|\n",
      "|{\"AAVE\":{\"acc_tra...|\n",
      "|{\"AAVE\":{\"acc_tra...|\n",
      "|{\"AAVE\":{\"acc_tra...|\n",
      "|{\"AAVE\":{\"acc_tra...|\n",
      "|{\"AAVE\":{\"acc_tra...|\n",
      "|{\"AAVE\":{\"acc_tra...|\n",
      "|{\"AAVE\":{\"acc_tra...|\n",
      "|{\"AAVE\":{\"acc_tra...|\n",
      "+--------------------+\n",
      "only showing top 20 rows\n",
      "\n"
     ]
    }
   ],
   "source": [
    "value_df.show()"
   ]
  },
  {
   "cell_type": "code",
   "execution_count": 9,
   "metadata": {},
   "outputs": [],
   "source": [
    "ticker_schema = StructType([StructField('acc_trade_value', StringType(), True),\n",
    "                            StructField('acc_trade_value_24H', StringType(), True),\n",
    "                            StructField('closing_price', StringType(), True),\n",
    "                            StructField('fluctate_24H', StringType(), True),\n",
    "                            StructField('fluctate_rate_24H', StringType(), True),\n",
    "                            StructField('max_price', StringType(), True),\n",
    "                            StructField('min_price', StringType(), True),\n",
    "                            StructField('opening_price', StringType(), True),\n",
    "                            StructField('prev_closing_price', StringType(), True),\n",
    "                            StructField('units_traded', StringType(), True),\n",
    "                            StructField('units_traded_24H', StringType(), True),\n",
    "                            StructField('coin', StringType(), True),\n",
    "                            StructField('timestamp', StringType(), True)])\n",
    "ticker_array_schema = ArrayType(ticker_schema, True)"
   ]
  },
  {
   "cell_type": "code",
   "execution_count": 10,
   "metadata": {},
   "outputs": [],
   "source": [
    "import json\n",
    "from pyspark.sql.functions import udf, explode, from_unixtime, to_date\n",
    "@udf(ticker_array_schema)\n",
    "def parse_raw_ticker(data):\n",
    "    data = json.loads(data)\n",
    "    timestamp = data['date']\n",
    "    del data['date']\n",
    "    coins = list(data.keys())\n",
    "    out = []\n",
    "    for coin in coins:\n",
    "        coin_item = data[coin]\n",
    "        coin_item[\"coin\"] = coin\n",
    "        coin_item[\"timestamp\"] = timestamp\n",
    "        out.append(coin_item)\n",
    "    return out"
   ]
  },
  {
   "cell_type": "code",
   "execution_count": 11,
   "metadata": {},
   "outputs": [],
   "source": [
    "parsed_df = value_df.withColumn('parsed_arr', explode(parse_raw_ticker('data')))\n",
    "parsed_df = parsed_df.select('parsed_arr.*')"
   ]
  },
  {
   "cell_type": "code",
   "execution_count": 12,
   "metadata": {},
   "outputs": [
    {
     "name": "stdout",
     "output_type": "stream",
     "text": [
      "+----------------+-------------------+-------------+------------+-----------------+---------+---------+-------------+------------------+------------------+------------------+-----+-------------+\n",
      "| acc_trade_value|acc_trade_value_24H|closing_price|fluctate_24H|fluctate_rate_24H|max_price|min_price|opening_price|prev_closing_price|      units_traded|  units_traded_24H| coin|    timestamp|\n",
      "+----------------+-------------------+-------------+------------+-----------------+---------+---------+-------------+------------------+------------------+------------------+-----+-------------+\n",
      "|  311026018.1799|     311026018.1799|       426800|      -11800|            -2.69|   442000|   424700|       438600|            438300|      715.63965039|      715.63965039| AAVE|1630162799073|\n",
      "|75165933158.4822|   75174324180.0117|         3291|         -66|            -1.97|     3460|     3248|         3361|              3360| 22412845.91658426| 22415343.84443834|  ADA|1630162799073|\n",
      "| 2090393985.3257|    2090393985.3257|        79.83|       -2.95|            -3.56|    82.78|    78.88|        82.78|             82.76| 26104748.42191015| 26104748.42191015|  ADP|1630162799073|\n",
      "| 1160600941.0804|    1160600941.0804|        269.5|         2.2|             0.82|      277|    266.4|        267.3|             268.9|  4283195.36862662|  4283195.36862662|AERGO|1630162799073|\n",
      "|  207327700.5488|     207327700.5488|        217.6|        -6.9|            -3.07|    227.4|    216.5|        224.5|             224.4|    932026.3568894|    932026.3568894| AION|1630162799073|\n",
      "|  748682769.4409|     748682769.4409|         1203|         -25|            -2.04|     1262|     1202|         1228|              1225|     608505.174416|     608505.174416| ALGO|1630162799073|\n",
      "| 8772596710.6962|    8772627250.9302|        26080|        2780|            11.93|    27880|    22910|        23340|             23340|   343189.24505548|   343190.55575548|ALICE|1630162799073|\n",
      "| 1621485349.5954|    1621624962.9908|        2.926|       -0.17|            -5.58|    3.425|    2.832|          3.1|             3.099|533274953.77832656|533320004.89012656|  AMO|1630162799073|\n",
      "| 1096087856.8454|    1096087856.8454|        126.4|           4|             3.27|    129.3|    120.8|        122.4|               122|  8782605.08800943|  8782605.08800943| ANKR|1630162799073|\n",
      "| 2689067904.6576|    2689217639.9184|         1373|           5|             0.37|     1438|     1314|         1368|              1368|  1948354.71277204|  1948464.16837204|  ANV|1630162799073|\n",
      "+----------------+-------------------+-------------+------------+-----------------+---------+---------+-------------+------------------+------------------+------------------+-----+-------------+\n",
      "only showing top 10 rows\n",
      "\n"
     ]
    }
   ],
   "source": [
    "parsed_df.show(10)"
   ]
  },
  {
   "cell_type": "code",
   "execution_count": 13,
   "metadata": {
    "scrolled": true
   },
   "outputs": [],
   "source": [
    "out_df = parsed_df.select(col('coin').cast(StringType()),\n",
    "                         from_unixtime(col('timestamp')/1000).alias('timestamp'),\n",
    "                         col('opening_price').cast(DoubleType()),\n",
    "                         col('closing_price').cast(DoubleType()),\n",
    "                         col('min_price').cast(DoubleType()),\n",
    "                         col('max_price').cast(DoubleType()),\n",
    "                         col('units_traded').cast(DoubleType()),\n",
    "                         col('acc_trade_value').cast(DoubleType()),\n",
    "                         col('prev_closing_price').cast(DoubleType()),\n",
    "                         col('units_traded_24H').cast(DoubleType()),\n",
    "                         col('acc_trade_value_24H').cast(DoubleType()),\n",
    "                         col('fluctate_24H').cast(DoubleType()),\n",
    "                         col('fluctate_rate_24H').cast(DoubleType()),\n",
    "                         from_unixtime(col('timestamp')/1000, 'yyyy-MM-dd').alias('dt'))\n",
    "out_df = out_df.distinct()"
   ]
  },
  {
   "cell_type": "code",
   "execution_count": 14,
   "metadata": {},
   "outputs": [],
   "source": [
    "out_df.repartition('coin', 'dt').write.partitionBy(['coin', 'dt']).mode('append').parquet('s3a://coin-bucket/warehouse/data/ticker')"
   ]
  },
  {
   "cell_type": "code",
   "execution_count": 15,
   "metadata": {},
   "outputs": [],
   "source": [
    "spark.stop()"
   ]
  },
  {
   "cell_type": "code",
   "execution_count": null,
   "metadata": {},
   "outputs": [],
   "source": []
  }
 ],
 "metadata": {
  "kernelspec": {
   "display_name": "Python 3",
   "language": "python",
   "name": "python3"
  },
  "language_info": {
   "codemirror_mode": {
    "name": "ipython",
    "version": 3
   },
   "file_extension": ".py",
   "mimetype": "text/x-python",
   "name": "python",
   "nbconvert_exporter": "python",
   "pygments_lexer": "ipython3",
   "version": "3.6.9"
  }
 },
 "nbformat": 4,
 "nbformat_minor": 5
}
